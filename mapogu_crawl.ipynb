{
 "cells": [
  {
   "cell_type": "markdown",
   "id": "inner-understanding",
   "metadata": {},
   "source": [
    "# 마포구청 모범음식점 크롤링\n",
    "- url 4곳에서 음식정 정보 크롤링\n",
    "- 각각 json 형식 파일로 내보내기"
   ]
  },
  {
   "cell_type": "code",
   "execution_count": 1,
   "id": "final-breeding",
   "metadata": {},
   "outputs": [
    {
     "name": "stdout",
     "output_type": "stream",
     "text": [
      "/Users/hanul/Dev/mapojoy\n"
     ]
    }
   ],
   "source": [
    "!pwd"
   ]
  },
  {
   "cell_type": "code",
   "execution_count": 2,
   "id": "hundred-creator",
   "metadata": {},
   "outputs": [],
   "source": [
    "# urls\n",
    "urls = ['https://www.mapo.go.kr/site/culture/mo/onstop_food_mo_list',\n",
    "        'https://www.mapo.go.kr/site/culture/cl/onstop_food_cl_list',\n",
    "        'https://www.mapo.go.kr/site/culture/tu/onstop_food_tu_list',\n",
    "        'https://www.mapo.go.kr/site/culture/an/onstop_food_an_list']\n",
    "mapo_url = 'https://www.mapo.go.kr/site/culture/mo/onstop_food_mo_list'"
   ]
  },
  {
   "cell_type": "code",
   "execution_count": 3,
   "id": "fatty-absolute",
   "metadata": {},
   "outputs": [],
   "source": [
    "from bs4 import BeautifulSoup as bs\n",
    "from selenium import webdriver\n",
    "from selenium.webdriver.common.by import By\n",
    "import pandas as pd\n",
    "import numpy as np\n",
    "import time"
   ]
  },
  {
   "cell_type": "markdown",
   "id": "specialized-substance",
   "metadata": {},
   "source": [
    "마포구청 음식점 사이트 열기"
   ]
  },
  {
   "cell_type": "code",
   "execution_count": 4,
   "id": "recognized-issue",
   "metadata": {},
   "outputs": [],
   "source": [
    "driver = webdriver.Chrome()"
   ]
  },
  {
   "cell_type": "markdown",
   "id": "stylish-short",
   "metadata": {},
   "source": [
    "driver.get(mapo_url)\n",
    "\n",
    "# implicitly wait for n seconds\n",
    "driver.implicitly_wait(2.5)\n",
    "\n",
    "# scroll down some\n",
    "driver.execute_script(\"window.scrollTo(0, 1000)\") "
   ]
  },
  {
   "cell_type": "code",
   "execution_count": 5,
   "id": "tough-coverage",
   "metadata": {},
   "outputs": [],
   "source": [
    "# 음식점 row 읽어서 저장하는 부분\n",
    "def get_store_info(driver):\n",
    "    stores = []\n",
    "    # 한 페이지의 음식점 정보 한번에 row에 담기\n",
    "    tbody = driver.find_element(By.CSS_SELECTOR, \"tbody\")\n",
    "    rows = tbody.find_elements(By.CSS_SELECTOR, \"tr\")\n",
    "    \n",
    "    for row in rows:\n",
    "        row_tds = row.find_elements(By.CSS_SELECTOR, 'td')\n",
    "        record = [td.text for td in row_tds]\n",
    "        try:\n",
    "            record[-1] = row.find_element(By.CSS_SELECTOR, 'a').get_attribute('href')\n",
    "        except:\n",
    "            record[-1] = '-'\n",
    "        \n",
    "        stores.append(record)\n",
    "    return stores\n",
    "    "
   ]
  },
  {
   "cell_type": "markdown",
   "id": "helpful-drinking",
   "metadata": {},
   "source": [
    "## urls만큼 반복"
   ]
  },
  {
   "cell_type": "code",
   "execution_count": 6,
   "id": "helpful-reunion",
   "metadata": {},
   "outputs": [
    {
     "name": "stdout",
     "output_type": "stream",
     "text": [
      "현재 페이지:  1\n",
      "\t페이지수:  10\n",
      "현재 페이지:  2\n",
      "\t페이지수:  10\n",
      "현재 페이지:  3\n",
      "\t페이지수:  10\n",
      "현재 페이지:  4\n",
      "\t페이지수:  10\n",
      "현재 페이지:  5\n",
      "\t페이지수:  10\n",
      "현재 페이지:  6\n",
      "\t페이지수:  10\n",
      "현재 페이지:  7\n",
      "\t페이지수:  10\n",
      "현재 페이지:  8\n",
      "\t페이지수:  10\n",
      "현재 페이지:  9\n",
      "\t페이지수:  10\n",
      "현재 페이지:  10\n",
      "페이지 이동합니다! 1\n",
      "\t페이지수:  2\n",
      "현재 페이지:  1\n",
      "\t페이지수:  2\n",
      "현재 페이지:  2\n",
      "페이지 이동합니다! 11\n",
      "===================\n",
      "https://www.mapo.go.kr/site/culture/mo/onstop_food_mo_list 페이지 크롤링 끝!================\n",
      "\n",
      "현재 페이지:  1\n",
      "\t페이지수:  3\n",
      "현재 페이지:  2\n",
      "\t페이지수:  3\n",
      "현재 페이지:  3\n",
      "페이지 이동합니다! 1\n",
      "===================\n",
      "https://www.mapo.go.kr/site/culture/cl/onstop_food_cl_list 페이지 크롤링 끝!================\n",
      "\n",
      "현재 페이지:  1\n",
      "\t페이지수:  3\n",
      "현재 페이지:  2\n",
      "\t페이지수:  3\n",
      "현재 페이지:  3\n",
      "페이지 이동합니다! 1\n",
      "===================\n",
      "https://www.mapo.go.kr/site/culture/tu/onstop_food_tu_list 페이지 크롤링 끝!================\n",
      "\n",
      "현재 페이지:  1\n",
      "\t페이지수:  10\n",
      "현재 페이지:  2\n",
      "\t페이지수:  10\n",
      "현재 페이지:  3\n",
      "\t페이지수:  10\n",
      "현재 페이지:  4\n",
      "\t페이지수:  10\n",
      "현재 페이지:  5\n",
      "\t페이지수:  10\n",
      "현재 페이지:  6\n",
      "\t페이지수:  10\n",
      "현재 페이지:  7\n",
      "\t페이지수:  10\n",
      "현재 페이지:  8\n",
      "\t페이지수:  10\n",
      "현재 페이지:  9\n",
      "\t페이지수:  10\n",
      "현재 페이지:  10\n",
      "페이지 이동합니다! 1\n",
      "\t페이지수:  10\n",
      "현재 페이지:  1\n",
      "\t페이지수:  10\n",
      "현재 페이지:  2\n",
      "\t페이지수:  10\n",
      "현재 페이지:  3\n",
      "\t페이지수:  10\n",
      "현재 페이지:  4\n",
      "\t페이지수:  10\n",
      "현재 페이지:  5\n",
      "\t페이지수:  10\n",
      "현재 페이지:  6\n",
      "\t페이지수:  10\n",
      "현재 페이지:  7\n",
      "\t페이지수:  10\n",
      "현재 페이지:  8\n",
      "\t페이지수:  10\n",
      "현재 페이지:  9\n",
      "\t페이지수:  10\n",
      "현재 페이지:  10\n",
      "페이지 이동합니다! 11\n",
      "===================\n",
      "https://www.mapo.go.kr/site/culture/an/onstop_food_an_list 페이지 크롤링 끝!================\n",
      "\n",
      "===================\n",
      "전체 크롤링 종료!!===================\n",
      "\n"
     ]
    }
   ],
   "source": [
    "for url in urls:\n",
    "    driver.get(url)\n",
    "\n",
    "    # implicitly wait for n seconds\n",
    "    time.sleep(1.5)\n",
    "\n",
    "    # scroll down some\n",
    "    driver.execute_script(\"window.scrollTo(0, 1000)\") \n",
    "    \n",
    "    # 페이지 데이터 가져오기 (1회)\n",
    "    page_info = driver.find_elements(By.CSS_SELECTOR, \".bbs_paging a\") # 맨처음/이전/숫자 1~10/다음/맨끝\n",
    "    page_info = page_info[2:]\n",
    "    \n",
    "    # page 이동\n",
    "\n",
    "    now = 0\n",
    "    prev_first_page = -1\n",
    "    stores = []\n",
    "\n",
    "    # paginatoin flag\n",
    "    is_page_ended = False\n",
    "\n",
    "    # 첫 페이지 별도로 진행\n",
    "    res = get_store_info(driver)\n",
    "    for r in res:\n",
    "        stores.append(r)\n",
    "    \n",
    "    while (True):\n",
    "    \n",
    "        time.sleep(1.2)\n",
    "        print(\"현재 페이지: \" , now+1)\n",
    "        \n",
    "\n",
    "        if now == (len(page_info) - 2 -1):\n",
    "            now = 0\n",
    "        \n",
    "            print(\"페이지 이동합니다!\", page_info[0].text)\n",
    "            prev_first_page = int(page_info[0].text)\n",
    "            # print(\"이동 전 맨 첫페이지:\", prev_first_page)\n",
    "        \n",
    "            # 다음페이지로 가기\n",
    "            page_info[-2].click()\n",
    "            time.sleep(1)\n",
    "        \n",
    "            # link 다시 받아오기\n",
    "            page_info = driver.find_elements(By.CSS_SELECTOR, \".bbs_paging a\") # 맨처음/이전/숫자 1~10/다음/맨끝\n",
    "            page_info = page_info[2:]\n",
    "        \n",
    "            # 다음페이지의 맨 첫 아이템과 현 페이지 가장 첫 아이템이 같으면 플래그 풀어주기\n",
    "            if int(page_info[0].text) == prev_first_page:\n",
    "                break\n",
    "        \n",
    "        \n",
    "        else:\n",
    "            page_info[now+1].click()\n",
    "            time.sleep(1)\n",
    "            driver.execute_script(\"window.scrollTo(0, 900)\") \n",
    "            time.sleep(1)\n",
    "            now += 1\n",
    "\n",
    "        # link 다시 받아오기\n",
    "        page_info = driver.find_elements(By.CSS_SELECTOR, \".bbs_paging a\") # 맨처음/이전/숫자 1~10/다음/맨끝\n",
    "        page_info = page_info[2:]\n",
    "        print(\"\\t페이지수: \", len(page_info) - 2)\n",
    "    \n",
    "    \n",
    "        # wait for full load\n",
    "        time.sleep(1.5)\n",
    "    \n",
    "        # ========= 음식점 정보 받아오는 부분 ==========\n",
    "        temp = get_store_info(driver)\n",
    "        for t in temp:\n",
    "            stores.append(t)\n",
    "    \n",
    "    storeDf = pd.DataFrame(stores, columns = ['번호', '식당명', '유형', '주메뉴', '위치', '전화번호', '홈페이지'])\n",
    "    filename = url.split('/')[-1]\n",
    "    storeDf.to_json(f'./mapojoy123_{filename}.json', orient=\"records\", force_ascii = False)\n",
    "    \n",
    "    print(f\"===================\\n{url} 페이지 크롤링 끝!================\\n\")\n",
    "    \n",
    "print(\"===================\\n전체 크롤링 종료!!===================\\n\")\n",
    "    \n",
    "    "
   ]
  },
  {
   "cell_type": "code",
   "execution_count": 7,
   "id": "approved-lodge",
   "metadata": {},
   "outputs": [],
   "source": [
    "driver.quit()"
   ]
  },
  {
   "cell_type": "code",
   "execution_count": null,
   "id": "pursuant-kazakhstan",
   "metadata": {},
   "outputs": [],
   "source": []
  },
  {
   "cell_type": "markdown",
   "id": "informative-gibson",
   "metadata": {},
   "source": [
    "### page 데이터 가져오기"
   ]
  },
  {
   "cell_type": "markdown",
   "id": "comparative-passage",
   "metadata": {},
   "source": [
    "page_info = driver.find_elements(By.CSS_SELECTOR, \".bbs_paging a\") # 맨처음/이전/숫자 1~10/다음/맨끝\n",
    "page_info = page_info[2:]"
   ]
  },
  {
   "cell_type": "markdown",
   "id": "functioning-microphone",
   "metadata": {},
   "source": [
    "first_pages = len(page_info)\n",
    "first_pages"
   ]
  },
  {
   "cell_type": "code",
   "execution_count": null,
   "id": "basic-neighborhood",
   "metadata": {},
   "outputs": [],
   "source": []
  },
  {
   "cell_type": "markdown",
   "id": "spiritual-extent",
   "metadata": {
    "tags": []
   },
   "source": [
    "# page 이동\n",
    "\n",
    "now = 0\n",
    "prev_first_page = -1\n",
    "stores = []\n",
    "\n",
    "# paginatoin flag\n",
    "is_page_ended = False\n",
    "\n",
    "# 첫 페이지 별도로 진행\n",
    "res = get_store_info(driver)\n",
    "for r in res:\n",
    "    stores.append(r)\n",
    "\n",
    "while (True):\n",
    "    \n",
    "    time.sleep(1.2)\n",
    "    print(\"현재 페이지: \" , now+1)\n",
    "    \n",
    "\n",
    "    if now == (len(page_info) - 2 -1):\n",
    "        now = 0\n",
    "        \n",
    "        print(\"페이지 이동합니다!\", page_info[0].text)\n",
    "        prev_first_page = int(page_info[0].text)\n",
    "        # print(\"이동 전 맨 첫페이지:\", prev_first_page)\n",
    "        \n",
    "        # 다음페이지로 가기\n",
    "        page_info[-2].click()\n",
    "        time.sleep(1)\n",
    "        \n",
    "        # link 다시 받아오기\n",
    "        page_info = driver.find_elements(By.CSS_SELECTOR, \".bbs_paging a\") # 맨처음/이전/숫자 1~10/다음/맨끝\n",
    "        page_info = page_info[2:]\n",
    "        \n",
    "        # 다음페이지의 맨 첫 아이템과 현 페이지 가장 첫 아이템이 같으면 플래그 풀어주기\n",
    "        if int(page_info[0].text) == prev_first_page:\n",
    "            break\n",
    "        \n",
    "        \n",
    "    else:\n",
    "        page_info[now+1].click()\n",
    "        time.sleep(1)\n",
    "        driver.execute_script(\"window.scrollTo(0, 900)\") \n",
    "        time.sleep(1)\n",
    "        now += 1\n",
    "\n",
    "    # link 다시 받아오기\n",
    "    page_info = driver.find_elements(By.CSS_SELECTOR, \".bbs_paging a\") # 맨처음/이전/숫자 1~10/다음/맨끝\n",
    "    page_info = page_info[2:]\n",
    "    print(\"\\t페이지수: \", len(page_info) - 2)\n",
    "    \n",
    "    \n",
    "    # wait for full load\n",
    "    time.sleep(1)\n",
    "    \n",
    "    # ========= 음식점 정보 받아오는 부분 ==========\n",
    "    temp = get_store_info(driver)\n",
    "    for t in temp:\n",
    "        stores.append(t)\n",
    "    \n",
    "    "
   ]
  },
  {
   "cell_type": "markdown",
   "id": "recovered-indication",
   "metadata": {},
   "source": [
    "### 최종 데이터를 DF으로 변환하고 JSON으로 내보내기"
   ]
  },
  {
   "cell_type": "markdown",
   "id": "artistic-glucose",
   "metadata": {
    "tags": []
   },
   "source": [
    "stores[:3]"
   ]
  },
  {
   "cell_type": "markdown",
   "id": "broken-pulse",
   "metadata": {},
   "source": [
    "storeDf = pd.DataFrame(stores, columns = ['번호', '식당명', '유형', '주메뉴', '위치', '전화번호', '홈페이지'])\n",
    "storeDf[:10]"
   ]
  },
  {
   "cell_type": "markdown",
   "id": "entire-swedish",
   "metadata": {},
   "source": [
    "storeDf.to_json('./restraurantInfo.json')"
   ]
  },
  {
   "cell_type": "markdown",
   "id": "intimate-reduction",
   "metadata": {},
   "source": [
    "#### 1 페이지"
   ]
  },
  {
   "cell_type": "markdown",
   "id": "ready-ancient",
   "metadata": {},
   "source": [
    "tbody = driver.find_element(By.CSS_SELECTOR, \"tbody\")\n",
    "rows = tbody.find_elements(By.CSS_SELECTOR, \"tr\")"
   ]
  },
  {
   "cell_type": "markdown",
   "id": "close-mozambique",
   "metadata": {},
   "source": [
    "tr의 td 얻어오기"
   ]
  },
  {
   "cell_type": "code",
   "execution_count": 8,
   "id": "missing-optimization",
   "metadata": {},
   "outputs": [],
   "source": [
    "# rows[0].text.split()"
   ]
  },
  {
   "cell_type": "markdown",
   "id": "coated-potter",
   "metadata": {},
   "source": [
    "상세보기 url 얻어오기"
   ]
  },
  {
   "cell_type": "code",
   "execution_count": 9,
   "id": "respective-norman",
   "metadata": {},
   "outputs": [],
   "source": [
    "# rows[0].find_element(By.CSS_SELECTOR, 'a').get_attribute('href')"
   ]
  },
  {
   "cell_type": "markdown",
   "id": "sapphire-ghost",
   "metadata": {},
   "source": [
    "full 음식점 객체"
   ]
  },
  {
   "cell_type": "code",
   "execution_count": 10,
   "id": "psychological-williams",
   "metadata": {},
   "outputs": [],
   "source": [
    "# storeDf = pd.DataFrame(stores, columns = ['번호', '식당명', '유형', '주메뉴', '위치', '전화번호', '홈페이지'])\n",
    "# storeDf"
   ]
  },
  {
   "cell_type": "code",
   "execution_count": 11,
   "id": "chubby-wednesday",
   "metadata": {},
   "outputs": [],
   "source": [
    "# driver.quit()"
   ]
  },
  {
   "cell_type": "code",
   "execution_count": null,
   "id": "bigger-conservative",
   "metadata": {},
   "outputs": [],
   "source": []
  },
  {
   "cell_type": "code",
   "execution_count": null,
   "id": "military-pressure",
   "metadata": {},
   "outputs": [],
   "source": []
  },
  {
   "cell_type": "code",
   "execution_count": null,
   "id": "aggregate-discovery",
   "metadata": {},
   "outputs": [],
   "source": []
  },
  {
   "cell_type": "code",
   "execution_count": null,
   "id": "noble-greensboro",
   "metadata": {},
   "outputs": [],
   "source": []
  },
  {
   "cell_type": "code",
   "execution_count": null,
   "id": "popular-declaration",
   "metadata": {},
   "outputs": [],
   "source": []
  },
  {
   "cell_type": "code",
   "execution_count": null,
   "id": "clean-coach",
   "metadata": {},
   "outputs": [],
   "source": []
  },
  {
   "cell_type": "code",
   "execution_count": null,
   "id": "advised-result",
   "metadata": {},
   "outputs": [],
   "source": []
  },
  {
   "cell_type": "code",
   "execution_count": null,
   "id": "heated-charity",
   "metadata": {},
   "outputs": [],
   "source": []
  },
  {
   "cell_type": "code",
   "execution_count": null,
   "id": "flexible-radius",
   "metadata": {},
   "outputs": [],
   "source": []
  },
  {
   "cell_type": "code",
   "execution_count": null,
   "id": "missing-peter",
   "metadata": {},
   "outputs": [],
   "source": []
  },
  {
   "cell_type": "code",
   "execution_count": null,
   "id": "wrong-formation",
   "metadata": {},
   "outputs": [],
   "source": []
  }
 ],
 "metadata": {
  "kernelspec": {
   "display_name": "android",
   "language": "python",
   "name": "android"
  },
  "language_info": {
   "codemirror_mode": {
    "name": "ipython",
    "version": 3
   },
   "file_extension": ".py",
   "mimetype": "text/x-python",
   "name": "python",
   "nbconvert_exporter": "python",
   "pygments_lexer": "ipython3",
   "version": "3.9.2"
  }
 },
 "nbformat": 4,
 "nbformat_minor": 5
}
