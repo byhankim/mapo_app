{
 "cells": [
  {
   "cell_type": "markdown",
   "id": "undefined-relaxation",
   "metadata": {},
   "source": [
    "# 마포구청 모범음식점 크롤링"
   ]
  },
  {
   "cell_type": "code",
   "execution_count": null,
   "id": "homeless-england",
   "metadata": {},
   "outputs": [],
   "source": [
    "!pwd"
   ]
  },
  {
   "cell_type": "code",
   "execution_count": null,
   "id": "corrected-arlington",
   "metadata": {},
   "outputs": [],
   "source": [
    "# urls\n",
    "urls = ['https://www.mapo.go.kr/site/culture/mo/onstop_food_mo_list', '']\n",
    "mapo_url = 'https://www.mapo.go.kr/site/culture/mo/onstop_food_mo_list'"
   ]
  },
  {
   "cell_type": "code",
   "execution_count": null,
   "id": "extensive-columbia",
   "metadata": {},
   "outputs": [],
   "source": [
    "from bs4 import BeautifulSoup as bs\n",
    "from selenium import webdriver\n",
    "from selenium.webdriver.common.by import By\n",
    "import pandas as pd\n",
    "import numpy as np\n",
    "import time"
   ]
  },
  {
   "cell_type": "markdown",
   "id": "french-bottom",
   "metadata": {},
   "source": [
    "마포구청 음식점 사이트 열기"
   ]
  },
  {
   "cell_type": "code",
   "execution_count": null,
   "id": "still-ready",
   "metadata": {},
   "outputs": [],
   "source": [
    "driver = webdriver.Chrome()\n",
    "driver.get(mapo_url)\n",
    "\n",
    "# implicitly wait for n seconds\n",
    "driver.implicitly_wait(3)\n",
    "\n",
    "# scroll down some\n",
    "driver.execute_script(\"window.scrollTo(0, 1000)\") "
   ]
  },
  {
   "cell_type": "code",
   "execution_count": null,
   "id": "talented-ordering",
   "metadata": {},
   "outputs": [],
   "source": []
  },
  {
   "cell_type": "markdown",
   "id": "satellite-foster",
   "metadata": {},
   "source": [
    "class CoolFood:\n",
    "    def __init__(self, r_id = -1, r_name = \"\", r_type = \"\", r_main_menu = \"\", r_addrs = \"\", r_dial_num= \"\", r_url = \"\"):\n",
    "        self.r_id = r_id\n",
    "        self.r_name = r_name\n",
    "        self.r_type = r_type\n",
    "        self.r_main_menu = r_main_menu\n",
    "        self.r_addrs = r_addrs\n",
    "        self.r_dial_num = r_dial_num\n",
    "        self.r_url = r_url"
   ]
  },
  {
   "cell_type": "markdown",
   "id": "usual-concert",
   "metadata": {},
   "source": [
    "### page 데이터 가져오기"
   ]
  },
  {
   "cell_type": "code",
   "execution_count": null,
   "id": "qualified-devices",
   "metadata": {},
   "outputs": [],
   "source": [
    "page_info = driver.find_elements(By.CSS_SELECTOR, \".bbs_paging a\") # 맨처음/이전/숫자 1~10/다음/맨끝\n",
    "page_info = page_info[2:]"
   ]
  },
  {
   "cell_type": "code",
   "execution_count": null,
   "id": "digital-subject",
   "metadata": {},
   "outputs": [],
   "source": [
    "first_pages = len(page_info)\n",
    "first_pages"
   ]
  },
  {
   "cell_type": "code",
   "execution_count": null,
   "id": "desirable-picking",
   "metadata": {},
   "outputs": [],
   "source": [
    "# page질\n",
    "\n",
    "now = 0\n",
    "prev_first_page = -1\n",
    "\n",
    "# paginatoin flag\n",
    "is_page_ended = False\n",
    "\n",
    "while (is_page_ended == False):\n",
    "    \n",
    "    time.sleep(1.5)\n",
    "    print(\"현재 페이지: \" , now+1)\n",
    "    \n",
    "\n",
    "\n",
    "\n",
    "    if now == (len(page_info) - 2 -1):\n",
    "        now = 0\n",
    "        \n",
    "        print(\"페이지 이동합니다!\", page_info[0].text)\n",
    "        prev_first_page = int(page_info[0].text)\n",
    "        # print(\"이동 전 맨 첫페이지:\", prev_first_page)\n",
    "        \n",
    "        # 다음페이지로 가기\n",
    "        page_info[-2].click()\n",
    "        time.sleep(1.5)\n",
    "        \n",
    "        # link 다시 받아오기\n",
    "        page_info = driver.find_elements(By.CSS_SELECTOR, \".bbs_paging a\") # 맨처음/이전/숫자 1~10/다음/맨끝\n",
    "        page_info = page_info[2:]\n",
    "        \n",
    "        # 다음페이지의 맨 첫 아이템과 현 페이지 가장 첫 아이템이 같으면 플래그 풀어주기\n",
    "        if int(page_info[0].text) == prev_first_page:\n",
    "            is_page_ended = True\n",
    "            # 중복된 정보 제거해주기\n",
    "            pass\n",
    "        \n",
    "        \n",
    "    else:\n",
    "        page_info[now+1].click()\n",
    "        time.sleep(1.5)\n",
    "        driver.execute_script(\"window.scrollTo(0, 900)\") \n",
    "        time.sleep(1.5)\n",
    "        now += 1\n",
    "\n",
    "    # link 다시 받아오기\n",
    "    page_info = driver.find_elements(By.CSS_SELECTOR, \".bbs_paging a\") # 맨처음/이전/숫자 1~10/다음/맨끝\n",
    "    page_info = page_info[2:]\n",
    "    print(\"\\t페이지수: \", len(page_info) - 2)\n",
    "    \n",
    "    \n",
    "    # wait for full load\n",
    "    time.sleep(1)\n",
    "    \n",
    "    # 음식점 정보 받아오는 부분\n",
    "    stores = []\n",
    "    \n",
    "    # 한 페이지의 음식점 정보 한번에 row에 담기\n",
    "    tbody = driver.find_element(By.CSS_SELECTOR, \"tbody\")\n",
    "    rows = tbody.find_elements(By.CSS_SELECTOR, \"tr\")\n",
    "    \n",
    "    \n",
    "    \n",
    "    "
   ]
  },
  {
   "cell_type": "code",
   "execution_count": null,
   "id": "extensive-warrior",
   "metadata": {},
   "outputs": [],
   "source": []
  },
  {
   "cell_type": "code",
   "execution_count": null,
   "id": "unexpected-serve",
   "metadata": {},
   "outputs": [],
   "source": []
  },
  {
   "cell_type": "code",
   "execution_count": null,
   "id": "interpreted-history",
   "metadata": {},
   "outputs": [],
   "source": []
  },
  {
   "cell_type": "markdown",
   "id": "coordinate-connectivity",
   "metadata": {},
   "source": [
    "#### 1 페이지"
   ]
  },
  {
   "cell_type": "markdown",
   "id": "grave-zimbabwe",
   "metadata": {},
   "source": [
    "tbody = driver.find_element(By.CSS_SELECTOR, \"tbody\")\n",
    "rows = tbody.find_elements(By.CSS_SELECTOR, \"tr\")"
   ]
  },
  {
   "cell_type": "markdown",
   "id": "latest-gnome",
   "metadata": {},
   "source": [
    "tr의 td 얻어오기"
   ]
  },
  {
   "cell_type": "markdown",
   "id": "ready-bracelet",
   "metadata": {},
   "source": [
    "# rows[0].text.split()"
   ]
  },
  {
   "cell_type": "markdown",
   "id": "growing-settle",
   "metadata": {},
   "source": [
    "상세보기 url 얻어오기"
   ]
  },
  {
   "cell_type": "markdown",
   "id": "checked-sociology",
   "metadata": {},
   "source": [
    "# rows[0].find_element(By.CSS_SELECTOR, 'a').get_attribute('href')"
   ]
  },
  {
   "cell_type": "markdown",
   "id": "dressed-romantic",
   "metadata": {},
   "source": [
    "full 음식점 객체"
   ]
  },
  {
   "cell_type": "markdown",
   "id": "preceding-subsection",
   "metadata": {},
   "source": [
    "#### 한 페이지 음식점 리스트 받아오기"
   ]
  },
  {
   "cell_type": "code",
   "execution_count": null,
   "id": "quality-biology",
   "metadata": {},
   "outputs": [],
   "source": [
    "# 담아올 객체\n",
    "stores = []"
   ]
  },
  {
   "cell_type": "code",
   "execution_count": null,
   "id": "consistent-tuner",
   "metadata": {},
   "outputs": [],
   "source": [
    "for row in rows:\n",
    "    row_tds = row.find_elements(By.CSS_SELECTOR, 'td')\n",
    "    record = [td.text for td in row_tds]\n",
    "    try:\n",
    "        record[-1] = row.find_element(By.CSS_SELECTOR, 'a').get_attribute('href')\n",
    "    except:\n",
    "        record[-1] = '-'\n",
    "    stores.append(record)"
   ]
  },
  {
   "cell_type": "code",
   "execution_count": null,
   "id": "wooden-arthur",
   "metadata": {},
   "outputs": [],
   "source": [
    "stores"
   ]
  },
  {
   "cell_type": "markdown",
   "id": "weighted-sacrifice",
   "metadata": {},
   "source": [
    "### 페이지 이동"
   ]
  },
  {
   "cell_type": "code",
   "execution_count": null,
   "id": "certain-metallic",
   "metadata": {},
   "outputs": [],
   "source": [
    "now = 0+2\n",
    "\n",
    "# go to next page\n",
    "# if idx == len(page_info) - 2 - 1, go to next page\n",
    "\n",
    "\n",
    "if now == (len(page_info) - 2 -1):\n",
    "    is_page_ended = True\n",
    "    pass\n",
    "else:\n",
    "    page_info[now].click()\n",
    "    now += 1\n",
    "\n",
    "# wait for full load\n",
    "driver.implicitly_wait(2.5)"
   ]
  },
  {
   "cell_type": "markdown",
   "id": "statistical-taiwan",
   "metadata": {},
   "source": [
    "### 끝 페이지 도달할때까지 계속 다음페이지 누르기"
   ]
  },
  {
   "cell_type": "markdown",
   "id": "copyrighted-ivory",
   "metadata": {},
   "source": [
    "## 데이터프레임 만들기"
   ]
  },
  {
   "cell_type": "code",
   "execution_count": null,
   "id": "technical-trigger",
   "metadata": {},
   "outputs": [],
   "source": [
    "# storeDf = pd.DataFrame(stores, columns = ['번호', '식당명', '유형', '주메뉴', '위치', '전화번호', '홈페이지'])\n",
    "# storeDf"
   ]
  },
  {
   "cell_type": "code",
   "execution_count": null,
   "id": "turned-watch",
   "metadata": {},
   "outputs": [],
   "source": [
    "# driver.quit()"
   ]
  },
  {
   "cell_type": "code",
   "execution_count": null,
   "id": "dental-advancement",
   "metadata": {},
   "outputs": [],
   "source": []
  },
  {
   "cell_type": "code",
   "execution_count": null,
   "id": "dried-simon",
   "metadata": {},
   "outputs": [],
   "source": []
  },
  {
   "cell_type": "code",
   "execution_count": null,
   "id": "elementary-flower",
   "metadata": {},
   "outputs": [],
   "source": []
  },
  {
   "cell_type": "code",
   "execution_count": null,
   "id": "difficult-radius",
   "metadata": {},
   "outputs": [],
   "source": []
  },
  {
   "cell_type": "code",
   "execution_count": null,
   "id": "complex-grain",
   "metadata": {},
   "outputs": [],
   "source": []
  },
  {
   "cell_type": "code",
   "execution_count": null,
   "id": "empirical-storm",
   "metadata": {},
   "outputs": [],
   "source": []
  },
  {
   "cell_type": "code",
   "execution_count": null,
   "id": "saved-house",
   "metadata": {},
   "outputs": [],
   "source": []
  },
  {
   "cell_type": "code",
   "execution_count": null,
   "id": "increasing-exercise",
   "metadata": {},
   "outputs": [],
   "source": []
  },
  {
   "cell_type": "code",
   "execution_count": null,
   "id": "indoor-semiconductor",
   "metadata": {},
   "outputs": [],
   "source": []
  },
  {
   "cell_type": "code",
   "execution_count": null,
   "id": "dirty-detroit",
   "metadata": {},
   "outputs": [],
   "source": []
  },
  {
   "cell_type": "code",
   "execution_count": null,
   "id": "physical-taxation",
   "metadata": {},
   "outputs": [],
   "source": []
  }
 ],
 "metadata": {
  "kernelspec": {
   "display_name": "android",
   "language": "python",
   "name": "android"
  },
  "language_info": {
   "codemirror_mode": {
    "name": "ipython",
    "version": 3
   },
   "file_extension": ".py",
   "mimetype": "text/x-python",
   "name": "python",
   "nbconvert_exporter": "python",
   "pygments_lexer": "ipython3",
   "version": "3.9.2"
  }
 },
 "nbformat": 4,
 "nbformat_minor": 5
}
