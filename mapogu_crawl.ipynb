{
 "cells": [
  {
   "cell_type": "markdown",
   "id": "swiss-pixel",
   "metadata": {},
   "source": [
    "# 마포구청 모범음식점 크롤링"
   ]
  },
  {
   "cell_type": "code",
   "execution_count": 1,
   "id": "catholic-regression",
   "metadata": {},
   "outputs": [
    {
     "name": "stdout",
     "output_type": "stream",
     "text": [
      "/Users/hanul/Dev/mapojoy\n"
     ]
    }
   ],
   "source": [
    "!pwd"
   ]
  },
  {
   "cell_type": "code",
   "execution_count": 2,
   "id": "average-transsexual",
   "metadata": {},
   "outputs": [],
   "source": [
    "# urls\n",
    "urls = ['https://www.mapo.go.kr/site/culture/mo/onstop_food_mo_list',\n",
    "        'https://www.mapo.go.kr/site/culture/cl/onstop_food_cl_list',\n",
    "        'https://www.mapo.go.kr/site/culture/tu/onstop_food_tu_list',\n",
    "        'https://www.mapo.go.kr/site/culture/an/onstop_food_an_list']\n",
    "mapo_url = 'https://www.mapo.go.kr/site/culture/mo/onstop_food_mo_list'"
   ]
  },
  {
   "cell_type": "code",
   "execution_count": 3,
   "id": "lonely-alliance",
   "metadata": {},
   "outputs": [],
   "source": [
    "from bs4 import BeautifulSoup as bs\n",
    "from selenium import webdriver\n",
    "from selenium.webdriver.common.by import By\n",
    "import pandas as pd\n",
    "import numpy as np\n",
    "import time"
   ]
  },
  {
   "cell_type": "markdown",
   "id": "impressive-dominican",
   "metadata": {},
   "source": [
    "마포구청 음식점 사이트 열기"
   ]
  },
  {
   "cell_type": "code",
   "execution_count": 4,
   "id": "sunrise-venezuela",
   "metadata": {},
   "outputs": [],
   "source": [
    "driver = webdriver.Chrome()"
   ]
  },
  {
   "cell_type": "code",
   "execution_count": 5,
   "id": "alternative-vertex",
   "metadata": {},
   "outputs": [],
   "source": [
    "driver.get(mapo_url)\n",
    "\n",
    "# implicitly wait for n seconds\n",
    "driver.implicitly_wait(3)\n",
    "\n",
    "# scroll down some\n",
    "driver.execute_script(\"window.scrollTo(0, 1000)\") "
   ]
  },
  {
   "cell_type": "code",
   "execution_count": 6,
   "id": "signal-small",
   "metadata": {},
   "outputs": [],
   "source": [
    "# 음식점 row 읽어서 저장하는 부분\n",
    "def get_store_info(driver):\n",
    "    stores = []\n",
    "    # 한 페이지의 음식점 정보 한번에 row에 담기\n",
    "    tbody = driver.find_element(By.CSS_SELECTOR, \"tbody\")\n",
    "    rows = tbody.find_elements(By.CSS_SELECTOR, \"tr\")\n",
    "    \n",
    "    for row in rows:\n",
    "        row_tds = row.find_elements(By.CSS_SELECTOR, 'td')\n",
    "        record = [td.text for td in row_tds]\n",
    "        try:\n",
    "            record[-1] = row.find_element(By.CSS_SELECTOR, 'a').get_attribute('href')\n",
    "        except:\n",
    "            record[-1] = '-'\n",
    "        \n",
    "        stores.append(record)\n",
    "    return stores\n",
    "    "
   ]
  },
  {
   "cell_type": "markdown",
   "id": "scientific-ethnic",
   "metadata": {},
   "source": [
    "## urls만큼 반복"
   ]
  },
  {
   "cell_type": "code",
   "execution_count": 7,
   "id": "dedicated-sword",
   "metadata": {},
   "outputs": [
    {
     "name": "stdout",
     "output_type": "stream",
     "text": [
      "현재 페이지:  1\n",
      "\t페이지수:  10\n",
      "현재 페이지:  2\n",
      "\t페이지수:  10\n",
      "현재 페이지:  3\n",
      "\t페이지수:  10\n",
      "현재 페이지:  4\n",
      "\t페이지수:  10\n",
      "현재 페이지:  5\n",
      "\t페이지수:  10\n",
      "현재 페이지:  6\n",
      "\t페이지수:  10\n",
      "현재 페이지:  7\n",
      "\t페이지수:  10\n",
      "현재 페이지:  8\n",
      "\t페이지수:  10\n",
      "현재 페이지:  9\n",
      "\t페이지수:  10\n",
      "현재 페이지:  10\n",
      "페이지 이동합니다! 1\n",
      "\t페이지수:  2\n",
      "현재 페이지:  1\n",
      "\t페이지수:  2\n",
      "현재 페이지:  2\n",
      "페이지 이동합니다! 11\n"
     ]
    },
    {
     "ename": "ImportError",
     "evalue": "Missing optional dependency 'fsspec'.  Use pip or conda to install fsspec.",
     "output_type": "error",
     "traceback": [
      "\u001b[0;31m---------------------------------------------------------------------------\u001b[0m",
      "\u001b[0;31mImportError\u001b[0m                               Traceback (most recent call last)",
      "\u001b[0;32m<ipython-input-7-f5f57a1cc9b2>\u001b[0m in \u001b[0;36m<module>\u001b[0;34m\u001b[0m\n\u001b[1;32m     74\u001b[0m \u001b[0;34m\u001b[0m\u001b[0m\n\u001b[1;32m     75\u001b[0m     \u001b[0mstoreDf\u001b[0m \u001b[0;34m=\u001b[0m \u001b[0mpd\u001b[0m\u001b[0;34m.\u001b[0m\u001b[0mDataFrame\u001b[0m\u001b[0;34m(\u001b[0m\u001b[0mstores\u001b[0m\u001b[0;34m,\u001b[0m \u001b[0mcolumns\u001b[0m \u001b[0;34m=\u001b[0m \u001b[0;34m[\u001b[0m\u001b[0;34m'번호'\u001b[0m\u001b[0;34m,\u001b[0m \u001b[0;34m'식당명'\u001b[0m\u001b[0;34m,\u001b[0m \u001b[0;34m'유형'\u001b[0m\u001b[0;34m,\u001b[0m \u001b[0;34m'주메뉴'\u001b[0m\u001b[0;34m,\u001b[0m \u001b[0;34m'위치'\u001b[0m\u001b[0;34m,\u001b[0m \u001b[0;34m'전화번호'\u001b[0m\u001b[0;34m,\u001b[0m \u001b[0;34m'홈페이지'\u001b[0m\u001b[0;34m]\u001b[0m\u001b[0;34m)\u001b[0m\u001b[0;34m\u001b[0m\u001b[0;34m\u001b[0m\u001b[0m\n\u001b[0;32m---> 76\u001b[0;31m     \u001b[0mstoreDf\u001b[0m\u001b[0;34m.\u001b[0m\u001b[0mto_json\u001b[0m\u001b[0;34m(\u001b[0m\u001b[0;34mf'./restraurantInfo_{url}.json'\u001b[0m\u001b[0;34m)\u001b[0m\u001b[0;34m\u001b[0m\u001b[0;34m\u001b[0m\u001b[0m\n\u001b[0m\u001b[1;32m     77\u001b[0m \u001b[0;34m\u001b[0m\u001b[0m\n\u001b[1;32m     78\u001b[0m \u001b[0;34m\u001b[0m\u001b[0m\n",
      "\u001b[0;32m~/miniforge3/envs/android/lib/python3.9/site-packages/pandas/core/generic.py\u001b[0m in \u001b[0;36mto_json\u001b[0;34m(self, path_or_buf, orient, date_format, double_precision, force_ascii, date_unit, default_handler, lines, compression, index, indent, storage_options)\u001b[0m\n\u001b[1;32m   2464\u001b[0m         \u001b[0mindent\u001b[0m \u001b[0;34m=\u001b[0m \u001b[0mindent\u001b[0m \u001b[0;32mor\u001b[0m \u001b[0;36m0\u001b[0m\u001b[0;34m\u001b[0m\u001b[0;34m\u001b[0m\u001b[0m\n\u001b[1;32m   2465\u001b[0m \u001b[0;34m\u001b[0m\u001b[0m\n\u001b[0;32m-> 2466\u001b[0;31m         return json.to_json(\n\u001b[0m\u001b[1;32m   2467\u001b[0m             \u001b[0mpath_or_buf\u001b[0m\u001b[0;34m=\u001b[0m\u001b[0mpath_or_buf\u001b[0m\u001b[0;34m,\u001b[0m\u001b[0;34m\u001b[0m\u001b[0;34m\u001b[0m\u001b[0m\n\u001b[1;32m   2468\u001b[0m             \u001b[0mobj\u001b[0m\u001b[0;34m=\u001b[0m\u001b[0mself\u001b[0m\u001b[0;34m,\u001b[0m\u001b[0;34m\u001b[0m\u001b[0;34m\u001b[0m\u001b[0m\n",
      "\u001b[0;32m~/miniforge3/envs/android/lib/python3.9/site-packages/pandas/io/json/_json.py\u001b[0m in \u001b[0;36mto_json\u001b[0;34m(path_or_buf, obj, orient, date_format, double_precision, force_ascii, date_unit, default_handler, lines, compression, index, indent, storage_options)\u001b[0m\n\u001b[1;32m    100\u001b[0m     \u001b[0;32mif\u001b[0m \u001b[0mpath_or_buf\u001b[0m \u001b[0;32mis\u001b[0m \u001b[0;32mnot\u001b[0m \u001b[0;32mNone\u001b[0m\u001b[0;34m:\u001b[0m\u001b[0;34m\u001b[0m\u001b[0;34m\u001b[0m\u001b[0m\n\u001b[1;32m    101\u001b[0m         \u001b[0;31m# apply compression and byte/text conversion\u001b[0m\u001b[0;34m\u001b[0m\u001b[0;34m\u001b[0m\u001b[0;34m\u001b[0m\u001b[0m\n\u001b[0;32m--> 102\u001b[0;31m         with get_handle(\n\u001b[0m\u001b[1;32m    103\u001b[0m             \u001b[0mpath_or_buf\u001b[0m\u001b[0;34m,\u001b[0m \u001b[0;34m\"w\"\u001b[0m\u001b[0;34m,\u001b[0m \u001b[0mcompression\u001b[0m\u001b[0;34m=\u001b[0m\u001b[0mcompression\u001b[0m\u001b[0;34m,\u001b[0m \u001b[0mstorage_options\u001b[0m\u001b[0;34m=\u001b[0m\u001b[0mstorage_options\u001b[0m\u001b[0;34m\u001b[0m\u001b[0;34m\u001b[0m\u001b[0m\n\u001b[1;32m    104\u001b[0m         ) as handles:\n",
      "\u001b[0;32m~/miniforge3/envs/android/lib/python3.9/site-packages/pandas/io/common.py\u001b[0m in \u001b[0;36mget_handle\u001b[0;34m(path_or_buf, mode, encoding, compression, memory_map, is_text, errors, storage_options)\u001b[0m\n\u001b[1;32m    556\u001b[0m \u001b[0;34m\u001b[0m\u001b[0m\n\u001b[1;32m    557\u001b[0m     \u001b[0;31m# open URLs\u001b[0m\u001b[0;34m\u001b[0m\u001b[0;34m\u001b[0m\u001b[0;34m\u001b[0m\u001b[0m\n\u001b[0;32m--> 558\u001b[0;31m     ioargs = _get_filepath_or_buffer(\n\u001b[0m\u001b[1;32m    559\u001b[0m         \u001b[0mpath_or_buf\u001b[0m\u001b[0;34m,\u001b[0m\u001b[0;34m\u001b[0m\u001b[0;34m\u001b[0m\u001b[0m\n\u001b[1;32m    560\u001b[0m         \u001b[0mencoding\u001b[0m\u001b[0;34m=\u001b[0m\u001b[0mencoding\u001b[0m\u001b[0;34m,\u001b[0m\u001b[0;34m\u001b[0m\u001b[0;34m\u001b[0m\u001b[0m\n",
      "\u001b[0;32m~/miniforge3/envs/android/lib/python3.9/site-packages/pandas/io/common.py\u001b[0m in \u001b[0;36m_get_filepath_or_buffer\u001b[0;34m(filepath_or_buffer, encoding, compression, mode, storage_options)\u001b[0m\n\u001b[1;32m    313\u001b[0m         \u001b[0;32mif\u001b[0m \u001b[0mfilepath_or_buffer\u001b[0m\u001b[0;34m.\u001b[0m\u001b[0mstartswith\u001b[0m\u001b[0;34m(\u001b[0m\u001b[0;34m\"s3n://\"\u001b[0m\u001b[0;34m)\u001b[0m\u001b[0;34m:\u001b[0m\u001b[0;34m\u001b[0m\u001b[0;34m\u001b[0m\u001b[0m\n\u001b[1;32m    314\u001b[0m             \u001b[0mfilepath_or_buffer\u001b[0m \u001b[0;34m=\u001b[0m \u001b[0mfilepath_or_buffer\u001b[0m\u001b[0;34m.\u001b[0m\u001b[0mreplace\u001b[0m\u001b[0;34m(\u001b[0m\u001b[0;34m\"s3n://\"\u001b[0m\u001b[0;34m,\u001b[0m \u001b[0;34m\"s3://\"\u001b[0m\u001b[0;34m)\u001b[0m\u001b[0;34m\u001b[0m\u001b[0;34m\u001b[0m\u001b[0m\n\u001b[0;32m--> 315\u001b[0;31m         \u001b[0mfsspec\u001b[0m \u001b[0;34m=\u001b[0m \u001b[0mimport_optional_dependency\u001b[0m\u001b[0;34m(\u001b[0m\u001b[0;34m\"fsspec\"\u001b[0m\u001b[0;34m)\u001b[0m\u001b[0;34m\u001b[0m\u001b[0;34m\u001b[0m\u001b[0m\n\u001b[0m\u001b[1;32m    316\u001b[0m \u001b[0;34m\u001b[0m\u001b[0m\n\u001b[1;32m    317\u001b[0m         \u001b[0;31m# If botocore is installed we fallback to reading with anon=True\u001b[0m\u001b[0;34m\u001b[0m\u001b[0;34m\u001b[0m\u001b[0;34m\u001b[0m\u001b[0m\n",
      "\u001b[0;32m~/miniforge3/envs/android/lib/python3.9/site-packages/pandas/compat/_optional.py\u001b[0m in \u001b[0;36mimport_optional_dependency\u001b[0;34m(name, extra, raise_on_missing, on_version)\u001b[0m\n\u001b[1;32m    107\u001b[0m     \u001b[0;32mexcept\u001b[0m \u001b[0mImportError\u001b[0m\u001b[0;34m:\u001b[0m\u001b[0;34m\u001b[0m\u001b[0;34m\u001b[0m\u001b[0m\n\u001b[1;32m    108\u001b[0m         \u001b[0;32mif\u001b[0m \u001b[0mraise_on_missing\u001b[0m\u001b[0;34m:\u001b[0m\u001b[0;34m\u001b[0m\u001b[0;34m\u001b[0m\u001b[0m\n\u001b[0;32m--> 109\u001b[0;31m             \u001b[0;32mraise\u001b[0m \u001b[0mImportError\u001b[0m\u001b[0;34m(\u001b[0m\u001b[0mmsg\u001b[0m\u001b[0;34m)\u001b[0m \u001b[0;32mfrom\u001b[0m \u001b[0;32mNone\u001b[0m\u001b[0;34m\u001b[0m\u001b[0;34m\u001b[0m\u001b[0m\n\u001b[0m\u001b[1;32m    110\u001b[0m         \u001b[0;32melse\u001b[0m\u001b[0;34m:\u001b[0m\u001b[0;34m\u001b[0m\u001b[0;34m\u001b[0m\u001b[0m\n\u001b[1;32m    111\u001b[0m             \u001b[0;32mreturn\u001b[0m \u001b[0;32mNone\u001b[0m\u001b[0;34m\u001b[0m\u001b[0;34m\u001b[0m\u001b[0m\n",
      "\u001b[0;31mImportError\u001b[0m: Missing optional dependency 'fsspec'.  Use pip or conda to install fsspec."
     ]
    }
   ],
   "source": [
    "for url in urls:\n",
    "    driver.get(mapo_url)\n",
    "\n",
    "    # implicitly wait for n seconds\n",
    "    driver.implicitly_wait(3)\n",
    "\n",
    "    # scroll down some\n",
    "    driver.execute_script(\"window.scrollTo(0, 1000)\") \n",
    "    \n",
    "    # 페이지 데이터 가져오기 (1회)\n",
    "    page_info = driver.find_elements(By.CSS_SELECTOR, \".bbs_paging a\") # 맨처음/이전/숫자 1~10/다음/맨끝\n",
    "    page_info = page_info[2:]\n",
    "    \n",
    "    # page 이동\n",
    "\n",
    "    now = 0\n",
    "    prev_first_page = -1\n",
    "    stores = []\n",
    "\n",
    "    # paginatoin flag\n",
    "    is_page_ended = False\n",
    "\n",
    "    # 첫 페이지 별도로 진행\n",
    "    res = get_store_info(driver)\n",
    "    for r in res:\n",
    "        stores.append(r)\n",
    "    \n",
    "    while (True):\n",
    "    \n",
    "        time.sleep(1.2)\n",
    "        print(\"현재 페이지: \" , now+1)\n",
    "        \n",
    "\n",
    "        if now == (len(page_info) - 2 -1):\n",
    "            now = 0\n",
    "        \n",
    "            print(\"페이지 이동합니다!\", page_info[0].text)\n",
    "            prev_first_page = int(page_info[0].text)\n",
    "            # print(\"이동 전 맨 첫페이지:\", prev_first_page)\n",
    "        \n",
    "            # 다음페이지로 가기\n",
    "            page_info[-2].click()\n",
    "            time.sleep(1)\n",
    "        \n",
    "            # link 다시 받아오기\n",
    "            page_info = driver.find_elements(By.CSS_SELECTOR, \".bbs_paging a\") # 맨처음/이전/숫자 1~10/다음/맨끝\n",
    "            page_info = page_info[2:]\n",
    "        \n",
    "            # 다음페이지의 맨 첫 아이템과 현 페이지 가장 첫 아이템이 같으면 플래그 풀어주기\n",
    "            if int(page_info[0].text) == prev_first_page:\n",
    "                break\n",
    "        \n",
    "        \n",
    "        else:\n",
    "            page_info[now+1].click()\n",
    "            time.sleep(1)\n",
    "            driver.execute_script(\"window.scrollTo(0, 900)\") \n",
    "            time.sleep(1)\n",
    "            now += 1\n",
    "\n",
    "        # link 다시 받아오기\n",
    "        page_info = driver.find_elements(By.CSS_SELECTOR, \".bbs_paging a\") # 맨처음/이전/숫자 1~10/다음/맨끝\n",
    "        page_info = page_info[2:]\n",
    "        print(\"\\t페이지수: \", len(page_info) - 2)\n",
    "    \n",
    "    \n",
    "        # wait for full load\n",
    "        time.sleep(1)\n",
    "    \n",
    "        # ========= 음식점 정보 받아오는 부분 ==========\n",
    "        temp = get_store_info(driver)\n",
    "        for t in temp:\n",
    "            stores.append(t)\n",
    "    \n",
    "    storeDf = pd.DataFrame(stores, columns = ['번호', '식당명', '유형', '주메뉴', '위치', '전화번호', '홈페이지'])\n",
    "    storeDf.to_json(f'./restraurantInfo_{url}.json')\n",
    "    \n",
    "    \n",
    "    "
   ]
  },
  {
   "cell_type": "code",
   "execution_count": null,
   "id": "pacific-paraguay",
   "metadata": {},
   "outputs": [
    {
     "name": "stdout",
     "output_type": "stream",
     "text": [
      "Collecting package metadata (current_repodata.json): done\n",
      "Solving environment: done\n",
      "\n",
      "\n",
      "==> WARNING: A newer version of conda exists. <==\n",
      "  current version: 4.10.3\n",
      "  latest version: 4.12.0\n",
      "\n",
      "Please update conda by running\n",
      "\n",
      "    $ conda update -n base conda\n",
      "\n",
      "\n",
      "\n",
      "## Package Plan ##\n",
      "\n",
      "  environment location: /Users/hanul/miniforge3/envs/android\n",
      "\n",
      "  added / updated specs:\n",
      "    - fsspec\n",
      "\n",
      "\n",
      "The following packages will be downloaded:\n",
      "\n",
      "    package                    |            build\n",
      "    ---------------------------|-----------------\n",
      "    certifi-2021.10.8          |   py39h2804cbe_2         145 KB  conda-forge\n",
      "    fsspec-2022.3.0            |     pyhd8ed1ab_0          93 KB  conda-forge\n",
      "    openssl-1.1.1n             |       h90dfc92_0         1.7 MB  conda-forge\n",
      "    ------------------------------------------------------------\n",
      "                                           Total:         2.0 MB\n",
      "\n",
      "The following NEW packages will be INSTALLED:\n",
      "\n",
      "  fsspec             conda-forge/noarch::fsspec-2022.3.0-pyhd8ed1ab_0\n",
      "\n",
      "The following packages will be UPDATED:\n",
      "\n",
      "  ca-certificates                      2020.12.5-h4653dfc_0 --> 2021.10.8-h4653dfc_0\n",
      "  certifi                          2020.12.5-py39h2804cbe_1 --> 2021.10.8-py39h2804cbe_2\n",
      "  openssl                                 1.1.1j-h27ca646_0 --> 1.1.1n-h90dfc92_0\n",
      "\n",
      "\n",
      "Proceed ([y]/n)? "
     ]
    }
   ],
   "source": [
    "!conda update -n "
   ]
  },
  {
   "cell_type": "code",
   "execution_count": null,
   "id": "thirty-romance",
   "metadata": {},
   "outputs": [],
   "source": []
  },
  {
   "cell_type": "markdown",
   "id": "outer-tragedy",
   "metadata": {},
   "source": [
    "### page 데이터 가져오기"
   ]
  },
  {
   "cell_type": "markdown",
   "id": "complicated-cinema",
   "metadata": {},
   "source": [
    "page_info = driver.find_elements(By.CSS_SELECTOR, \".bbs_paging a\") # 맨처음/이전/숫자 1~10/다음/맨끝\n",
    "page_info = page_info[2:]"
   ]
  },
  {
   "cell_type": "markdown",
   "id": "scientific-tractor",
   "metadata": {},
   "source": [
    "first_pages = len(page_info)\n",
    "first_pages"
   ]
  },
  {
   "cell_type": "code",
   "execution_count": null,
   "id": "junior-found",
   "metadata": {},
   "outputs": [],
   "source": []
  },
  {
   "cell_type": "markdown",
   "id": "polar-projection",
   "metadata": {
    "tags": []
   },
   "source": [
    "# page 이동\n",
    "\n",
    "now = 0\n",
    "prev_first_page = -1\n",
    "stores = []\n",
    "\n",
    "# paginatoin flag\n",
    "is_page_ended = False\n",
    "\n",
    "# 첫 페이지 별도로 진행\n",
    "res = get_store_info(driver)\n",
    "for r in res:\n",
    "    stores.append(r)\n",
    "\n",
    "while (True):\n",
    "    \n",
    "    time.sleep(1.2)\n",
    "    print(\"현재 페이지: \" , now+1)\n",
    "    \n",
    "\n",
    "    if now == (len(page_info) - 2 -1):\n",
    "        now = 0\n",
    "        \n",
    "        print(\"페이지 이동합니다!\", page_info[0].text)\n",
    "        prev_first_page = int(page_info[0].text)\n",
    "        # print(\"이동 전 맨 첫페이지:\", prev_first_page)\n",
    "        \n",
    "        # 다음페이지로 가기\n",
    "        page_info[-2].click()\n",
    "        time.sleep(1)\n",
    "        \n",
    "        # link 다시 받아오기\n",
    "        page_info = driver.find_elements(By.CSS_SELECTOR, \".bbs_paging a\") # 맨처음/이전/숫자 1~10/다음/맨끝\n",
    "        page_info = page_info[2:]\n",
    "        \n",
    "        # 다음페이지의 맨 첫 아이템과 현 페이지 가장 첫 아이템이 같으면 플래그 풀어주기\n",
    "        if int(page_info[0].text) == prev_first_page:\n",
    "            break\n",
    "        \n",
    "        \n",
    "    else:\n",
    "        page_info[now+1].click()\n",
    "        time.sleep(1)\n",
    "        driver.execute_script(\"window.scrollTo(0, 900)\") \n",
    "        time.sleep(1)\n",
    "        now += 1\n",
    "\n",
    "    # link 다시 받아오기\n",
    "    page_info = driver.find_elements(By.CSS_SELECTOR, \".bbs_paging a\") # 맨처음/이전/숫자 1~10/다음/맨끝\n",
    "    page_info = page_info[2:]\n",
    "    print(\"\\t페이지수: \", len(page_info) - 2)\n",
    "    \n",
    "    \n",
    "    # wait for full load\n",
    "    time.sleep(1)\n",
    "    \n",
    "    # ========= 음식점 정보 받아오는 부분 ==========\n",
    "    temp = get_store_info(driver)\n",
    "    for t in temp:\n",
    "        stores.append(t)\n",
    "    \n",
    "    "
   ]
  },
  {
   "cell_type": "markdown",
   "id": "broke-indianapolis",
   "metadata": {},
   "source": [
    "### 최종 데이터를 DF으로 변환하고 JSON으로 내보내기"
   ]
  },
  {
   "cell_type": "markdown",
   "id": "incorporate-maximum",
   "metadata": {
    "tags": []
   },
   "source": [
    "stores[:3]"
   ]
  },
  {
   "cell_type": "markdown",
   "id": "sweet-basis",
   "metadata": {},
   "source": [
    "storeDf = pd.DataFrame(stores, columns = ['번호', '식당명', '유형', '주메뉴', '위치', '전화번호', '홈페이지'])\n",
    "storeDf[:10]"
   ]
  },
  {
   "cell_type": "markdown",
   "id": "constant-hearts",
   "metadata": {},
   "source": [
    "storeDf.to_json('./restraurantInfo.json')"
   ]
  },
  {
   "cell_type": "markdown",
   "id": "military-layer",
   "metadata": {},
   "source": [
    "#### 1 페이지"
   ]
  },
  {
   "cell_type": "markdown",
   "id": "resistant-missouri",
   "metadata": {},
   "source": [
    "tbody = driver.find_element(By.CSS_SELECTOR, \"tbody\")\n",
    "rows = tbody.find_elements(By.CSS_SELECTOR, \"tr\")"
   ]
  },
  {
   "cell_type": "markdown",
   "id": "rocky-cartoon",
   "metadata": {},
   "source": [
    "tr의 td 얻어오기"
   ]
  },
  {
   "cell_type": "code",
   "execution_count": null,
   "id": "victorian-lafayette",
   "metadata": {},
   "outputs": [],
   "source": [
    "# rows[0].text.split()"
   ]
  },
  {
   "cell_type": "markdown",
   "id": "streaming-activity",
   "metadata": {},
   "source": [
    "상세보기 url 얻어오기"
   ]
  },
  {
   "cell_type": "code",
   "execution_count": null,
   "id": "early-stock",
   "metadata": {},
   "outputs": [],
   "source": [
    "# rows[0].find_element(By.CSS_SELECTOR, 'a').get_attribute('href')"
   ]
  },
  {
   "cell_type": "markdown",
   "id": "alive-sleeping",
   "metadata": {},
   "source": [
    "full 음식점 객체"
   ]
  },
  {
   "cell_type": "markdown",
   "id": "caroline-desire",
   "metadata": {},
   "source": [
    "#### 한 페이지 음식점 리스트 받아오기"
   ]
  },
  {
   "cell_type": "markdown",
   "id": "specialized-deposit",
   "metadata": {},
   "source": [
    "# 담아올 객체\n",
    "stores = []"
   ]
  },
  {
   "cell_type": "markdown",
   "id": "every-turkey",
   "metadata": {},
   "source": [
    "for row in rows:\n",
    "    row_tds = row.find_elements(By.CSS_SELECTOR, 'td')\n",
    "    record = [td.text for td in row_tds]\n",
    "    try:\n",
    "        record[-1] = row.find_element(By.CSS_SELECTOR, 'a').get_attribute('href')\n",
    "    except:\n",
    "        record[-1] = '-'\n",
    "    stores.append(record)"
   ]
  },
  {
   "cell_type": "markdown",
   "id": "sixth-content",
   "metadata": {},
   "source": [
    "stores"
   ]
  },
  {
   "cell_type": "markdown",
   "id": "sharp-commerce",
   "metadata": {},
   "source": [
    "### 페이지 이동"
   ]
  },
  {
   "cell_type": "markdown",
   "id": "superb-finland",
   "metadata": {},
   "source": [
    "now = 0+2\n",
    "\n",
    "# go to next page\n",
    "# if idx == len(page_info) - 2 - 1, go to next page\n",
    "\n",
    "\n",
    "if now == (len(page_info) - 2 -1):\n",
    "    is_page_ended = True\n",
    "    pass\n",
    "else:\n",
    "    page_info[now].click()\n",
    "    now += 1\n",
    "\n",
    "# wait for full load\n",
    "driver.implicitly_wait(2.5)"
   ]
  },
  {
   "cell_type": "markdown",
   "id": "incorporated-athletics",
   "metadata": {},
   "source": [
    "### 끝 페이지 도달할때까지 계속 다음페이지 누르기"
   ]
  },
  {
   "cell_type": "markdown",
   "id": "hearing-moment",
   "metadata": {},
   "source": [
    "## 데이터프레임 만들기"
   ]
  },
  {
   "cell_type": "code",
   "execution_count": null,
   "id": "fundamental-ceiling",
   "metadata": {},
   "outputs": [],
   "source": [
    "# storeDf = pd.DataFrame(stores, columns = ['번호', '식당명', '유형', '주메뉴', '위치', '전화번호', '홈페이지'])\n",
    "# storeDf"
   ]
  },
  {
   "cell_type": "code",
   "execution_count": null,
   "id": "selected-tuner",
   "metadata": {},
   "outputs": [],
   "source": [
    "# driver.quit()"
   ]
  },
  {
   "cell_type": "code",
   "execution_count": null,
   "id": "bizarre-parts",
   "metadata": {},
   "outputs": [],
   "source": []
  },
  {
   "cell_type": "code",
   "execution_count": null,
   "id": "loving-rochester",
   "metadata": {},
   "outputs": [],
   "source": []
  },
  {
   "cell_type": "code",
   "execution_count": null,
   "id": "nuclear-footage",
   "metadata": {},
   "outputs": [],
   "source": []
  },
  {
   "cell_type": "code",
   "execution_count": null,
   "id": "capable-anthropology",
   "metadata": {},
   "outputs": [],
   "source": []
  },
  {
   "cell_type": "code",
   "execution_count": null,
   "id": "taken-expansion",
   "metadata": {},
   "outputs": [],
   "source": []
  },
  {
   "cell_type": "code",
   "execution_count": null,
   "id": "criminal-words",
   "metadata": {},
   "outputs": [],
   "source": []
  },
  {
   "cell_type": "code",
   "execution_count": null,
   "id": "comfortable-novel",
   "metadata": {},
   "outputs": [],
   "source": []
  },
  {
   "cell_type": "code",
   "execution_count": null,
   "id": "small-allah",
   "metadata": {},
   "outputs": [],
   "source": []
  },
  {
   "cell_type": "code",
   "execution_count": null,
   "id": "considerable-litigation",
   "metadata": {},
   "outputs": [],
   "source": []
  },
  {
   "cell_type": "code",
   "execution_count": null,
   "id": "animated-copying",
   "metadata": {},
   "outputs": [],
   "source": []
  },
  {
   "cell_type": "code",
   "execution_count": null,
   "id": "beginning-sunset",
   "metadata": {},
   "outputs": [],
   "source": []
  }
 ],
 "metadata": {
  "kernelspec": {
   "display_name": "android",
   "language": "python",
   "name": "android"
  },
  "language_info": {
   "codemirror_mode": {
    "name": "ipython",
    "version": 3
   },
   "file_extension": ".py",
   "mimetype": "text/x-python",
   "name": "python",
   "nbconvert_exporter": "python",
   "pygments_lexer": "ipython3",
   "version": "3.9.2"
  }
 },
 "nbformat": 4,
 "nbformat_minor": 5
}
